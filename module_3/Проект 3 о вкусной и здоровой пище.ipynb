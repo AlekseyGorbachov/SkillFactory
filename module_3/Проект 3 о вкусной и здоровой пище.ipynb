{
 "cells": [
  {
   "cell_type": "code",
   "execution_count": 72,
   "metadata": {},
   "outputs": [],
   "source": [
    "import pandas as pd\n",
    "import os\n",
    "import numpy as np\n",
    "import re \n",
    "import datetime\n",
    "\n",
    "from sklearn.model_selection import train_test_split\n",
    "from sklearn.ensemble import RandomForestRegressor # инструмент для создания и обучения модели  \n",
    "from sklearn import metrics # инструменты для оценки точности модели  \n",
    "\n",
    "import matplotlib.pyplot as plt\n",
    "import seaborn as sns\n",
    "%matplotlib inline\n",
    "\n",
    "\n",
    "pd.set_option('display.max_rows', 201) # показывать больше строк\n",
    "pd.set_option('display.max_columns', 15) # показывать больше колонок\n",
    "\n",
    "Data = pd.read_csv('d:/SkillFactory/module_3/main_task_new.csv')"
   ]
  },
  {
   "cell_type": "code",
   "execution_count": 73,
   "metadata": {},
   "outputs": [
    {
     "name": "stdout",
     "output_type": "stream",
     "text": [
      "<class 'pandas.core.frame.DataFrame'>\n",
      "RangeIndex: 40000 entries, 0 to 39999\n",
      "Data columns (total 10 columns):\n",
      " #   Column             Non-Null Count  Dtype  \n",
      "---  ------             --------------  -----  \n",
      " 0   Restaurant_id      40000 non-null  object \n",
      " 1   City               40000 non-null  object \n",
      " 2   Cuisine Style      30717 non-null  object \n",
      " 3   Ranking            40000 non-null  float64\n",
      " 4   Rating             40000 non-null  float64\n",
      " 5   Price Range        26114 non-null  object \n",
      " 6   Number of Reviews  37457 non-null  float64\n",
      " 7   Reviews            40000 non-null  object \n",
      " 8   URL_TA             40000 non-null  object \n",
      " 9   ID_TA              40000 non-null  object \n",
      "dtypes: float64(3), object(7)\n",
      "memory usage: 3.1+ MB\n"
     ]
    }
   ],
   "source": [
    "Data.info()"
   ]
  },
  {
   "cell_type": "code",
   "execution_count": 74,
   "metadata": {},
   "outputs": [],
   "source": [
    "# переименуем колонки\n",
    "Data.columns = ['Restaurant_id', 'City', 'Cuisine_Style', 'Ranking', 'Rating',\n",
    "                'Price_Range', 'Number_of_Reviews', 'Reviews', 'URL_TA', 'ID_TA']"
   ]
  },
  {
   "cell_type": "markdown",
   "metadata": {},
   "source": [
    "##### Создадим колонки с пропусками"
   ]
  },
  {
   "cell_type": "code",
   "execution_count": 75,
   "metadata": {},
   "outputs": [],
   "source": [
    "Data['Cuisine_Style_isNaN'] = pd.isna(Data['Cuisine_Style']).astype('uint8')\n",
    "Data['Price_Range_isNaN'] = pd.isna(Data['Price_Range']).astype('uint8')\n",
    "Data['Number_of_Reviews_isNaN'] = pd.isna(Data['Number_of_Reviews']).astype('uint8')"
   ]
  },
  {
   "cell_type": "code",
   "execution_count": 76,
   "metadata": {},
   "outputs": [],
   "source": [
    "# Data"
   ]
  },
  {
   "cell_type": "raw",
   "metadata": {},
   "source": [
    "Restaurant_id — идентификационный номер ресторана / сети ресторанов;\n",
    "City — город, в котором находится ресторан;\n",
    "Cuisine Style — кухня или кухни, к которым можно отнести блюда, предлагаемые в ресторане;\n",
    "Ranking — место, которое занимает данный ресторан среди всех ресторанов своего города;\n",
    "Rating — рейтинг ресторана по данным TripAdvisor (именно это значение должна будет предсказывать модель);\n",
    "Price Range — диапазон цен в ресторане;\n",
    "Number of Reviews — количество отзывов о ресторане;\n",
    "Reviews — данные о двух отзывах, которые отображаются на сайте ресторана;\n",
    "URL_TA — URL страницы ресторана на TripAdvisor;\n",
    "ID_TA — идентификатор ресторана в базе данных TripAdvisor."
   ]
  },
  {
   "cell_type": "markdown",
   "metadata": {},
   "source": [
    "## 1.1 Преобразуем колонку Cuisine_Style. Добавим новый признак\n",
    "(Добавим колонку с количеством кухонь в ресторане. Оставляем кухни: страна, регион, тип кухни)"
   ]
  },
  {
   "cell_type": "code",
   "execution_count": 77,
   "metadata": {},
   "outputs": [],
   "source": [
    "Data.Cuisine_Style = Data.Cuisine_Style.fillna('mixed')  # заполняем пропуски \n",
    "# Data.Cuisine_Style"
   ]
  },
  {
   "cell_type": "code",
   "execution_count": 78,
   "metadata": {},
   "outputs": [],
   "source": [
    "Cuisine_S = ['Italian', 'French', 'Spanish', 'Portuguese', 'Japanese', 'British', 'Czech', 'Chinese', 'American',\n",
    "             'Thai', 'Polish', 'Austrian', 'Greek', 'Indian', 'Hungarian', 'Vietnamese', 'Lebanese', 'German', \n",
    "             'Belgian', 'Korean', 'Moroccan', 'Dutch', 'Irish', 'Peruvian', 'Swiss', 'Brazilian', 'Swedish', \n",
    "             'Danish', 'Mexican', 'Indonesian', 'Ethiopian', 'Turkish', 'Argentinean', 'Russian', 'Caribbean',\n",
    "             'Slovenian', 'Norwegian', 'Croatian','mixed', 'Cambodian', 'Taiwanese', 'Tibetan', 'Filipino', \n",
    "             'Cafe', 'Pizza', 'Mediterranean', 'Bar', 'Vegetarian', 'Fast Food', 'European', 'Pub', 'Asian',\n",
    "             'Seafood', 'Sushi', 'Wine Bar', 'African', 'International', 'Contemporary', 'Steakhouse', 'Delicatessen',\n",
    "             'Healthy', 'Middle Eastern', 'Fusion', 'Grill', 'Street Food', 'Vegan Options', 'Venezuelan', 'Colombian',\n",
    "             'Pakistani', 'Halal']\n",
    "\n",
    "# Data.Cuisine_Style.value_counts().sort_values(ascending=False).head(200)"
   ]
  },
  {
   "cell_type": "code",
   "execution_count": 79,
   "metadata": {},
   "outputs": [],
   "source": [
    "def clean(x):          # функция сортирующая кухни\n",
    "    for i in Cuisine_S:\n",
    "        if i in x:\n",
    "            return i\n",
    "        else:\n",
    "            continue\n",
    "    return x\n",
    "\n",
    "\n",
    "def clean_name(str_val):  # чистим колонку от лишнего\n",
    "    str_val = str_val.strip('[]')\n",
    "    str_val = str_val.strip(\"''\")\n",
    "    str_val = str_val.strip('[]')\n",
    "    return str_val"
   ]
  },
  {
   "cell_type": "code",
   "execution_count": 80,
   "metadata": {},
   "outputs": [],
   "source": [
    "Data['Cuisine_most'] = Data.Cuisine_Style.apply(clean)\n",
    "Data.Cuisine_most = Data.Cuisine_most.apply(clean_name)\n",
    "Data.Cuisine_most = Data.Cuisine_most.astype('object')\n",
    "# Data.Cuisine_most.value_counts().sort_values(ascending=False).head(200)"
   ]
  },
  {
   "cell_type": "markdown",
   "metadata": {},
   "source": [
    "## 1.2 Преобразуем колонку Ranking.\n",
    "(меняем на целочисленный тип)"
   ]
  },
  {
   "cell_type": "code",
   "execution_count": 81,
   "metadata": {},
   "outputs": [],
   "source": [
    "Data.Ranking = Data.Ranking.astype('Int64')\n",
    "# Data.Ranking.value_counts().sort_values(ascending=False).head(200)"
   ]
  },
  {
   "cell_type": "code",
   "execution_count": 82,
   "metadata": {},
   "outputs": [
    {
     "data": {
      "image/png": "[encoded data removed]",
      "text/plain": [
       "<Figure size 432x288 with 1 Axes>"
      ]
     },
     "metadata": {
      "needs_background": "light"
     },
     "output_type": "display_data"
    }
   ],
   "source": [
    "boxplot = Data.boxplot(column=['Ranking'], color='green')"
   ]
  },
  {
   "cell_type": "code",
   "execution_count": 83,
   "metadata": {},
   "outputs": [
    {
     "data": {
      "text/plain": [
       "(array([15820.,  8789.,  4567.,  3625.,  2143.,  1382.,  1104.,  1131.,\n",
       "          868.,   571.]),\n",
       " array([1.0, 1645.3, 3289.6, 4933.9, 6578.2, 8222.5, 9866.8, 11511.1,\n",
       "        13155.4, 14799.699999999999, 16444.0], dtype=object),\n",
       " <BarContainer object of 10 artists>)"
      ]
     },
     "execution_count": 83,
     "metadata": {},
     "output_type": "execute_result"
    },
    {
     "data": {
      "image/png": "[encoded data removed]",
      "text/plain": [
       "<Figure size 432x288 with 1 Axes>"
      ]
     },
     "metadata": {
      "needs_background": "light"
     },
     "output_type": "display_data"
    }
   ],
   "source": [
    "fig = plt.figure()\n",
    "axes = fig.add_axes([0, 0, 1, 1])\n",
    "axes.hist(Data['Ranking'])"
   ]
  },
  {
   "cell_type": "markdown",
   "metadata": {},
   "source": [
    "## 1.3 Преобразуем колонку Rating.\n",
    "(тип float, пропусков нет)"
   ]
  },
  {
   "cell_type": "code",
   "execution_count": 84,
   "metadata": {},
   "outputs": [
    {
     "data": {
      "image/png": "[encoded data removed]",
      "text/plain": [
       "<Figure size 432x288 with 1 Axes>"
      ]
     },
     "metadata": {
      "needs_background": "light"
     },
     "output_type": "display_data"
    }
   ],
   "source": [
    "boxplot = Data.boxplot(column=['Rating'], color='green')"
   ]
  },
  {
   "cell_type": "code",
   "execution_count": 85,
   "metadata": {},
   "outputs": [
    {
     "data": {
      "text/plain": [
       "(array([  201.,   139.,   466.,   915.,     0.,  2955.,  6824., 13692.,\n",
       "        10929.,  3879.]),\n",
       " array([1. , 1.4, 1.8, 2.2, 2.6, 3. , 3.4, 3.8, 4.2, 4.6, 5. ]),\n",
       " <BarContainer object of 10 artists>)"
      ]
     },
     "execution_count": 85,
     "metadata": {},
     "output_type": "execute_result"
    },
    {
     "data": {
      "image/png": "[encoded data removed]",
      "text/plain": [
       "<Figure size 432x288 with 1 Axes>"
      ]
     },
     "metadata": {
      "needs_background": "light"
     },
     "output_type": "display_data"
    }
   ],
   "source": [
    "fig = plt.figure()\n",
    "axes = fig.add_axes([0, 0, 1, 1])\n",
    "axes.hist(Data['Rating'])"
   ]
  },
  {
   "cell_type": "markdown",
   "metadata": {},
   "source": [
    "## 1.4 Преобразуем колонку Price_Range.\n",
    "(преобразуем в катигорию, заполняем пропуски)"
   ]
  },
  {
   "cell_type": "code",
   "execution_count": 86,
   "metadata": {},
   "outputs": [
    {
     "data": {
      "text/plain": [
       "$$ - $$$    18412\n",
       "$            6279\n",
       "$$$$         1423\n",
       "Name: Price_Range, dtype: int64"
      ]
     },
     "execution_count": 86,
     "metadata": {},
     "output_type": "execute_result"
    }
   ],
   "source": [
    "Data.Price_Range.value_counts().sort_values(ascending=False).head(200)"
   ]
  },
  {
   "cell_type": "code",
   "execution_count": 87,
   "metadata": {},
   "outputs": [],
   "source": [
    "def Price_R(Price):\n",
    "    if Price == '$$ - $$$':\n",
    "        return 2\n",
    "    if Price == '$':\n",
    "        return 1  \n",
    "    if Price == '$$$$':\n",
    "        return 3\n",
    "    else:\n",
    "        return Price"
   ]
  },
  {
   "cell_type": "code",
   "execution_count": 88,
   "metadata": {},
   "outputs": [
    {
     "data": {
      "text/plain": [
       "2    18412\n",
       "1     6279\n",
       "3     1423\n",
       "Name: Price_Range, dtype: Int64"
      ]
     },
     "execution_count": 88,
     "metadata": {},
     "output_type": "execute_result"
    }
   ],
   "source": [
    "Data.Price_Range = Data.Price_Range.apply(Price_R)\n",
    "Data.Price_Range = Data.Price_Range.astype('Int64')\n",
    "Data.Price_Range.value_counts().sort_values(ascending=False).head(4)"
   ]
  },
  {
   "cell_type": "code",
   "execution_count": 89,
   "metadata": {},
   "outputs": [
    {
     "data": {
      "text/plain": [
       "2    32298\n",
       "1     6279\n",
       "3     1423\n",
       "Name: Price_Range, dtype: Int64"
      ]
     },
     "execution_count": 89,
     "metadata": {},
     "output_type": "execute_result"
    }
   ],
   "source": [
    "Data.Price_Range = Data.Price_Range.fillna(2)  # заполняем пропуски модой\n",
    "Data.Price_Range = Data.Price_Range\n",
    "Data.Price_Range.value_counts().sort_values(ascending=False).head(4)"
   ]
  },
  {
   "cell_type": "markdown",
   "metadata": {},
   "source": [
    "## 1.5 Преобразуем колонку Number_of_Reviews.\n",
    "(преобразуем в целочисленный тип, заполняем пропуски значением ноль)"
   ]
  },
  {
   "cell_type": "code",
   "execution_count": 90,
   "metadata": {},
   "outputs": [],
   "source": [
    "Data.Number_of_Reviews = Data.Number_of_Reviews.astype('Int64')\n",
    "Data.Number_of_Reviews = Data.Number_of_Reviews.fillna(0)"
   ]
  },
  {
   "cell_type": "code",
   "execution_count": 91,
   "metadata": {},
   "outputs": [
    {
     "data": {
      "image/png": "[encoded data removed]",
      "text/plain": [
       "<Figure size 432x288 with 1 Axes>"
      ]
     },
     "metadata": {
      "needs_background": "light"
     },
     "output_type": "display_data"
    }
   ],
   "source": [
    "boxplot = Data.boxplot(column=['Number_of_Reviews'], color='green')"
   ]
  },
  {
   "cell_type": "code",
   "execution_count": 92,
   "metadata": {},
   "outputs": [
    {
     "data": {
      "text/plain": [
       "(array([3.9298e+04, 5.5000e+02, 9.3000e+01, 3.2000e+01, 1.4000e+01,\n",
       "        3.0000e+00, 5.0000e+00, 3.0000e+00, 0.0000e+00, 2.0000e+00]),\n",
       " array([0.0, 966.0, 1932.0, 2898.0, 3864.0, 4830.0, 5796.0, 6762.0, 7728.0,\n",
       "        8694.0, 9660.0], dtype=object),\n",
       " <BarContainer object of 10 artists>)"
      ]
     },
     "execution_count": 92,
     "metadata": {},
     "output_type": "execute_result"
    },
    {
     "data": {
      "image/png": "[encoded data removed]",
      "text/plain": [
       "<Figure size 432x288 with 1 Axes>"
      ]
     },
     "metadata": {
      "needs_background": "light"
     },
     "output_type": "display_data"
    }
   ],
   "source": [
    "fig = plt.figure()\n",
    "axes = fig.add_axes([0, 0, 1, 1])\n",
    "axes.hist(Data['Number_of_Reviews'])"
   ]
  },
  {
   "cell_type": "markdown",
   "metadata": {},
   "source": [
    "## 1.6 Преобразуем колонку Reviews.\n",
    "(удаляем отзывы, разделяем даты на две колонки)"
   ]
  },
  {
   "cell_type": "code",
   "execution_count": 93,
   "metadata": {},
   "outputs": [],
   "source": [
    "def review_date1(row):\n",
    "    date_regex=r'\\b(0[1-9]|1[012])[- /.](0[1-9]|[12][0-9]|3[01])[- /.](19|20\\d\\d)\\b'\n",
    "    b = re.findall(date_regex, row)\n",
    "    return ['/'.join(map(str, x)) for x in b ] \n",
    "\n",
    "def review_len(row):    #    проверяем на пропуски \n",
    "    if len(row) < 2:\n",
    "        return 'NaN'\n",
    "    else:\n",
    "        return row\n",
    "     \n",
    "Data['Dates_of_Reviews'] = Data['Reviews'].apply(review_date1)\n",
    "Data['Dates_of_Reviews'] = Data['Dates_of_Reviews'].apply(review_len)\n",
    "# Data['Dates_of_Reviews'] "
   ]
  },
  {
   "cell_type": "code",
   "execution_count": 94,
   "metadata": {},
   "outputs": [],
   "source": [
    "# разделяем даты на два столбца\n",
    "\n",
    "def D1(row):\n",
    "    if len(row[0]) != 10:    # проверяем нет ли некорректных дат\n",
    "        return \"NaN\"\n",
    "    else:\n",
    "        return row[0]\n",
    "\n",
    "def D2(row):\n",
    "    if len(row[1]) != 10:\n",
    "        return \"NaN\"\n",
    "    else:\n",
    "        return row[1]\n",
    "    \n",
    "Data['Dates_of_Reviews1'] = Data['Dates_of_Reviews'].apply(D1)  \n",
    "Data['Dates_of_Reviews2'] = Data['Dates_of_Reviews'].apply(D2)  "
   ]
  },
  {
   "cell_type": "code",
   "execution_count": 95,
   "metadata": {},
   "outputs": [],
   "source": [
    "Data[\"Dates_of_Reviews1\"] = pd.to_datetime(Data[\"Dates_of_Reviews1\"], format=\"%m/%d/%Y\")\n",
    "Data[\"Dates_of_Reviews2\"] = pd.to_datetime(Data[\"Dates_of_Reviews2\"], format=\"%m/%d/%Y\")"
   ]
  },
  {
   "cell_type": "code",
   "execution_count": 96,
   "metadata": {},
   "outputs": [],
   "source": [
    "#Data.info()"
   ]
  },
  {
   "cell_type": "markdown",
   "metadata": {},
   "source": [
    "## 2.1 Kонструирование признаков\n",
    "### Из колонки Restaurant_id создадим колонку с количеством ресторанов в сети"
   ]
  },
  {
   "cell_type": "code",
   "execution_count": 97,
   "metadata": {},
   "outputs": [],
   "source": [
    "Rest_nets = Data.Restaurant_id.value_counts()    # количество ресторанов в сети\n",
    "\n",
    "\n",
    "def Res_id(id):\n",
    "    return Rest_nets[id]\n",
    "\n",
    "Data['counts_restaurants'] = Data['Restaurant_id'].apply(Res_id)     "
   ]
  },
  {
   "cell_type": "code",
   "execution_count": 98,
   "metadata": {},
   "outputs": [
    {
     "data": {
      "image/png": "[encoded data removed]",
      "text/plain": [
       "<Figure size 432x288 with 1 Axes>"
      ]
     },
     "metadata": {
      "needs_background": "light"
     },
     "output_type": "display_data"
    }
   ],
   "source": [
    "boxplot = Data.boxplot(column=['counts_restaurants'], color='green')"
   ]
  },
  {
   "cell_type": "code",
   "execution_count": 99,
   "metadata": {},
   "outputs": [
    {
     "data": {
      "text/plain": [
       "(array([9339., 6926., 5048., 2688., 5476., 4981., 1812., 2713.,  843.,\n",
       "         174.]),\n",
       " array([ 1. ,  2.7,  4.4,  6.1,  7.8,  9.5, 11.2, 12.9, 14.6, 16.3, 18. ]),\n",
       " <BarContainer object of 10 artists>)"
      ]
     },
     "execution_count": 99,
     "metadata": {},
     "output_type": "execute_result"
    },
    {
     "data": {
      "image/png": "[encoded data removed]",
      "text/plain": [
       "<Figure size 432x288 with 1 Axes>"
      ]
     },
     "metadata": {
      "needs_background": "light"
     },
     "output_type": "display_data"
    }
   ],
   "source": [
    "fig = plt.figure()\n",
    "axes = fig.add_axes([0, 0, 1, 1])\n",
    "axes.hist(Data['counts_restaurants'])"
   ]
  },
  {
   "cell_type": "markdown",
   "metadata": {},
   "source": [
    "## 2.2 Kонструирование признаков\n",
    "### Из колонки City создадим колонку с количеством всех ресторанов в городе"
   ]
  },
  {
   "cell_type": "code",
   "execution_count": 100,
   "metadata": {},
   "outputs": [],
   "source": [
    "City_Rest_count = Data.City.value_counts()\n",
    "\n",
    "\n",
    "def Res_in_City(City):\n",
    "    return City_Rest_count[City]   \n",
    "\n",
    "\n",
    "Data['counts_rest_inCity'] = Data['City']. apply(Res_in_City)  "
   ]
  },
  {
   "cell_type": "markdown",
   "metadata": {},
   "source": [
    "## 2.3 Kонструирование признаков\n",
    "### Из колонок Dates_of_Reviews1 и Dates_of_Reviews2  создадим период между отзывами"
   ]
  },
  {
   "cell_type": "code",
   "execution_count": 101,
   "metadata": {},
   "outputs": [],
   "source": [
    "Data[\"Dates_of_Reviews3\"] = (Data[\"Dates_of_Reviews1\"] - Data[\"Dates_of_Reviews2\"]).dt.days\n",
    "Data.Dates_of_Reviews3 = Data.Dates_of_Reviews3.fillna(1)  # заполняем пропуски \n",
    "Data.Dates_of_Reviews3 = Data.Dates_of_Reviews3.astype('Int64')"
   ]
  },
  {
   "cell_type": "markdown",
   "metadata": {},
   "source": [
    "## 2.4 Kонструирование признаков\n",
    "### Считаем количество кухонь в рестране"
   ]
  },
  {
   "cell_type": "code",
   "execution_count": 102,
   "metadata": {},
   "outputs": [],
   "source": [
    "def num_Cuis(Cus):\n",
    "    return Cus.count(\",\") + 1\n",
    "\n",
    "\n",
    "Data.Cuisine_Style.apply(clean_name)  # чистим от скобок и []\n",
    "\n",
    "Data['Cuisine_num'] = Data.Cuisine_Style.apply(num_Cuis)"
   ]
  },
  {
   "cell_type": "markdown",
   "metadata": {},
   "source": [
    "### Смотрим корреляции"
   ]
  },
  {
   "cell_type": "code",
   "execution_count": 103,
   "metadata": {},
   "outputs": [
    {
     "data": {
      "text/plain": [
       "<AxesSubplot:>"
      ]
     },
     "execution_count": 103,
     "metadata": {},
     "output_type": "execute_result"
    },
    {
     "data": {
      "image/png": "[encoded data removed]",
      "text/plain": [
       "<Figure size 432x288 with 2 Axes>"
      ]
     },
     "metadata": {
      "needs_background": "light"
     },
     "output_type": "display_data"
    }
   ],
   "source": [
    "Data_corr = Data.copy()\n",
    "Data_corr = Data_corr.drop(['Restaurant_id', 'Cuisine_Style', 'Reviews', \n",
    "                                         'URL_TA', 'ID_TA', 'Dates_of_Reviews',\n",
    "                                         'Dates_of_Reviews1', 'Dates_of_Reviews2'], axis = 1)\n",
    "correlation = Data_corr.corr()\n",
    "\n",
    "sns.heatmap(correlation, vmin=correlation.values.min(), vmax=1, square=True, cmap=\"coolwarm\", linewidths=0.1, annot=True, annot_kws={\"fontsize\":5})"
   ]
  },
  {
   "cell_type": "markdown",
   "metadata": {},
   "source": [
    "## 2.5 Kонструирование признаков\n",
    "### Создадим dummy variables"
   ]
  },
  {
   "cell_type": "code",
   "execution_count": 104,
   "metadata": {},
   "outputs": [],
   "source": [
    "Data = pd.get_dummies(Data, columns=['City'], dummy_na=True)\n",
    "Data = pd.get_dummies(Data, columns=['Cuisine_most'], dummy_na=True)"
   ]
  },
  {
   "cell_type": "markdown",
   "metadata": {},
   "source": [
    "### Создаем копию датасета "
   ]
  },
  {
   "cell_type": "code",
   "execution_count": 105,
   "metadata": {},
   "outputs": [],
   "source": [
    "Data_experiment = Data.copy()"
   ]
  },
  {
   "cell_type": "code",
   "execution_count": 106,
   "metadata": {},
   "outputs": [
    {
     "name": "stdout",
     "output_type": "stream",
     "text": [
      "<class 'pandas.core.frame.DataFrame'>\n",
      "RangeIndex: 40000 entries, 0 to 39999\n",
      "Columns: 131 entries, Ranking to Cuisine_most_nan\n",
      "dtypes: Int64(4), float64(1), int64(3), uint8(123)\n",
      "memory usage: 7.3 MB\n"
     ]
    }
   ],
   "source": [
    "Data_experiment_1 = Data_experiment.drop(['Restaurant_id', 'Cuisine_Style', 'Reviews',\n",
    "                                          'URL_TA', 'ID_TA', 'Dates_of_Reviews',\n",
    "                                          'Dates_of_Reviews1', 'Dates_of_Reviews2'], axis=1)\n",
    "Data_experiment_1.info()"
   ]
  },
  {
   "cell_type": "markdown",
   "metadata": {},
   "source": [
    "## 1.1 Тестирование\n",
    "\n",
    "### Разбиваем датафрейм на части, необходимые для обучения и тестирования модели  \n",
    " "
   ]
  },
  {
   "cell_type": "code",
   "execution_count": 107,
   "metadata": {},
   "outputs": [
    {
     "name": "stdout",
     "output_type": "stream",
     "text": [
      "MAE: 0.20895299999999997\n"
     ]
    }
   ],
   "source": [
    "X = Data_experiment_1.drop(['Rating'], axis = 1)  \n",
    "y = Data_experiment_1['Rating'] \n",
    "\n",
    "X_train, X_test, y_train, y_test = train_test_split(X, y, test_size=0.25)\n",
    "\n",
    "# Создаём модель  \n",
    "regr = RandomForestRegressor(n_estimators=100)  \n",
    "      \n",
    "# Обучаем модель на тестовом наборе данных  \n",
    "regr.fit(X_train, y_train) \n",
    "y_pred = regr.predict(X_test) \n",
    "\n",
    "print('MAE:', metrics.mean_absolute_error(y_test, y_pred))"
   ]
  },
  {
   "cell_type": "code",
   "execution_count": null,
   "metadata": {},
   "outputs": [],
   "source": [
    "# plt.rcParams['figure.figsize'] = (15, 5)\n",
    "# feat_importance = pd.Serias(regr.feature_importances_, index=X.columns)\n",
    "# feat_importance.nlargest(10).plot(kind='bar')"
   ]
  },
  {
   "cell_type": "code",
   "execution_count": null,
   "metadata": {},
   "outputs": [],
   "source": []
  }
 ],
 "metadata": {
  "kernelspec": {
   "display_name": "Python 3",
   "language": "python",
   "name": "python3"
  },
  "language_info": {
   "codemirror_mode": {
    "name": "ipython",
    "version": 3
   },
   "file_extension": ".py",
   "mimetype": "text/x-python",
   "name": "python",
   "nbconvert_exporter": "python",
   "pygments_lexer": "ipython3",
   "version": "3.8.5"
  }
 },
 "nbformat": 4,
 "nbformat_minor": 4
}
